{
 "cells": [
  {
   "cell_type": "code",
   "execution_count": null,
   "id": "bf4280f6",
   "metadata": {},
   "outputs": [],
   "source": [
    "!git clone https://github.com/gotec/git2net-tutorials\n",
    "import os\n",
    "os.chdir('git2net-tutorials')\n",
    "!pip install -r requirements.txt\n",
    "os.chdir('..')\n",
    "!git clone https://github.com/gotec/git2net git2net4analysis"
   ]
  },
  {
   "cell_type": "code",
   "execution_count": null,
   "id": "e43b425c",
   "metadata": {
    "ExecuteTime": {
     "end_time": "2022-02-18T12:03:14.970588Z",
     "start_time": "2022-02-18T12:03:14.268795Z"
    }
   },
   "outputs": [],
   "source": [
    "import git2net\n",
    "import os\n",
    "import sqlite3\n",
    "import pandas as pd"
   ]
  },
  {
   "cell_type": "markdown",
   "id": "7a813c2f",
   "metadata": {},
   "source": [
    "# Repository Mining\n",
    "\n",
    "The first tutorial showed how to clone a repository and prepare it for analysis with `git2net`.\n",
    "In some examples, we even started mining the resulting repositories as with `mine_github()`, `git2net` provides a function to clone and mine repositories in a single step.\n",
    "\n",
    "This tutorial will focus on the options you have when mining a repository with `git2net`.\n",
    "During this process, we will focus on the function `mine_git_repo()`, `git2net`'s primary function for repository mining.\n",
    "However, you can also pass all options discussed here to `mine_github()`, which calls `mine_git_repo()` internally."
   ]
  },
  {
   "cell_type": "markdown",
   "id": "79d7bc14",
   "metadata": {},
   "source": [
    "## 1 - Introduction to `mine_git_repo()`\n",
    "\n",
    "The function `mine_git_repo()` takes two required and several optional inputs, which we will further explore later in this tutorial.\n",
    "Let's start with the required inputs.\n",
    "We need to supply a path to the git repository that we want to analyse. Below, this is done with the variable `git_repo_dir`.\n",
    "In addition, you need to provide a path to the *SQLite* database that `git2net` will write the results to during the mining process.\n",
    "This path is provided as `sqlite_db_file`.\n",
    "\n",
    "Note that if no database exists on the supplied path, `git2net` will create a new database.\n",
    "If a database exists, `git2net` will check if the database was mined with the same setting and on the same repository and subsequently resume the mining process from wherever it was left off.\n",
    "For this example, we remove any existing database before calling `mine_git_repo()` to ensure the mining starts from scratch.\n",
    "\n",
    "Let's try this out.\n",
    "Below we point `git2net` to the path where we cloned the repository.\n",
    "In addition, we specify the location of the database file in which the results of the mining process will be stored and ensure the database does not currently exist.\n",
    "We then run the `mine_git_repo()` function"
   ]
  },
  {
   "cell_type": "code",
   "execution_count": null,
   "id": "7e45d4c8",
   "metadata": {
    "ExecuteTime": {
     "end_time": "2022-02-18T12:03:26.662880Z",
     "start_time": "2022-02-18T12:03:14.972819Z"
    }
   },
   "outputs": [],
   "source": [
    "# We assume a clone of git2net's repository exists in the folder below following the first tutorial.\n",
    "git_repo_dir = 'git2net4analysis'\n",
    "\n",
    "# Here, we specify the database in which we will store the results of the mining process.\n",
    "sqlite_db_file = 'git2net4analysis.db'\n",
    "\n",
    "# Remove database if exists\n",
    "if os.path.exists(sqlite_db_file):\n",
    "    os.remove(sqlite_db_file)\n",
    "    \n",
    "git2net.mine_git_repo(git_repo_dir, sqlite_db_file)"
   ]
  },
  {
   "cell_type": "markdown",
   "id": "3c767f04",
   "metadata": {},
   "source": [
    "Congratulations, you have now finished mining the repository using `git2net`!"
   ]
  },
  {
   "cell_type": "markdown",
   "id": "39a9cc88",
   "metadata": {},
   "source": [
    "## 2 - Skipping large commits while mining\n",
    "\n",
    "In the previous section, we mined all commits existing in the repository.\n",
    "When you start working with projects bigger than `git2net`, you might find that some commits are extremely large and might take very long to mine.\n",
    "From our experience, these are often commits in which many files are changed at once.\n",
    "If these commits are relevant for you depends on your analysis.\n",
    "However, even if these commits need to be mined eventually, you might be interested in starting with smaller commits and obtaining a preliminary database.\n",
    "You can then develop your downstream processing pipeline based on this database while the remaining commits are being mined.\n",
    " \n",
    "### Number of modified files\n",
    " \n",
    "One way to exclude commits with many changed files from the mining is to call `mine_git_repo()` with the optional argument `max_modifications`. In the example below, we use `max_modifications=3` to only mine commits in which at most three or fewer files were modified."
   ]
  },
  {
   "cell_type": "code",
   "execution_count": null,
   "id": "22b7c4ec",
   "metadata": {
    "ExecuteTime": {
     "end_time": "2022-02-18T12:03:37.606236Z",
     "start_time": "2022-02-18T12:03:26.665019Z"
    }
   },
   "outputs": [],
   "source": [
    "# We assume a clone of git2net's repository exists in the folder below following the first tutorial.\n",
    "git_repo_dir = 'git2net4analysis'\n",
    "\n",
    "# Here, we specify the database in which we will store the results of the mining process.\n",
    "sqlite_db_file = 'git2net4analysis.db'\n",
    "\n",
    "# Remove database if exists\n",
    "if os.path.exists(sqlite_db_file):\n",
    "    os.remove(sqlite_db_file)\n",
    "\n",
    "max_modifications = 3\n",
    "    \n",
    "git2net.mine_git_repo(git_repo_dir, sqlite_db_file, max_modifications=max_modifications)"
   ]
  },
  {
   "cell_type": "markdown",
   "id": "053401ef",
   "metadata": {},
   "source": [
    "While mining, `git2net` provides information about its progress.\n",
    "The first line shows that if found no database at the current path and therefore started mining from scratch.\n",
    "This behaviour is expected, as we deliberately deleted any existing database before the run.\n",
    "\n",
    "Subsequently, progress updates on the mining process are printed. The first information denotes the number of processes `git2net` spawns and runs on.\n",
    "The other output shows the number of commits mined and the total number of commits to be mined in this run, as well as the elapsed time and an estimate of the remaining time to finish.\n",
    "\n",
    "### Timeout\n",
    "\n",
    "If a commit is skipped, `git2net` prints the reason for skipping it and the commit's hash.\n",
    "Currently, there are three cases in which `git2net` can skip a commit:\n",
    "First, as seen above, a commit can exceed the maximum number of modifications set by max_modifications.\n",
    "Second, you can skip commits if processing them takes too long using the option' timeout'.\n",
    "By default, the maximum processing time is set to `timeout=0`, which is equivalent to never stopping the processing of a commit due to a timeout.\n",
    "However, e.g., by setting `timeout=5`, `git2net` will stop processing a commit if it takes longer than 5 seconds.\n",
    "Third, `git2net` may skip commits if an error occurs during their processing.\n",
    "In these cases, please report the repository and commit hash in a new issue on [github.com/gotec/git2net](https://github.com/gotec/git2net).\n",
    "\n",
    "Let's resume the mining process while increasing the maximum number of modifications to 5!"
   ]
  },
  {
   "cell_type": "code",
   "execution_count": null,
   "id": "8e1bb075",
   "metadata": {
    "ExecuteTime": {
     "end_time": "2022-02-18T12:03:38.861031Z",
     "start_time": "2022-02-18T12:03:37.608509Z"
    }
   },
   "outputs": [],
   "source": [
    "max_modifications = 5\n",
    "\n",
    "git2net.mine_git_repo(git_repo_dir, sqlite_db_file, max_modifications=max_modifications)"
   ]
  },
  {
   "cell_type": "markdown",
   "id": "6b93e350",
   "metadata": {},
   "source": [
    "As you can see from the output above, the process was resumed from the old database, skipping the already processed commits in the repository.\n",
    "\n",
    "Great, we made progress, and many of the repository's commits are already mined and in the database!\n",
    "But what about the other ones?\n",
    "We can obtain additional information on the commits missing from the database from the function `git2net.mining_state_summary()`.\n",
    "Similar to mine_git_repo, this function also requires the paths to the repository and the database."
   ]
  },
  {
   "cell_type": "code",
   "execution_count": null,
   "id": "aecfacaf",
   "metadata": {
    "ExecuteTime": {
     "end_time": "2022-02-18T12:03:39.193264Z",
     "start_time": "2022-02-18T12:03:38.863118Z"
    }
   },
   "outputs": [],
   "source": [
    "git2net.mining_state_summary(git_repo_dir, sqlite_db_file)"
   ]
  },
  {
   "cell_type": "markdown",
   "id": "8386b07f",
   "metadata": {},
   "source": [
    "Calling the function yields you a summary of the mining state and details on all missing commits.\n",
    "Let's assume we are very interested in commit *090c00c342283134a23900f85c1d232499617365* but want to avoid crawling the other missing commits.\n",
    "While this is unnecessary for small repositories such as `git2net`, this might become highly relevant for larger projects such as `Linux`, where individual commits can make changes to thousands of files that require significant computational resources (days or weeks) to analyse.\n",
    "Particularly merge commits can be very computationally expensive, as all files included in the diffs to both parent commits need to be considered.\n",
    "Therefore, for larger projects, we generally recommend running `git2net` with `max_modifications = 1000`, subsequently increasing this number if required."
   ]
  },
  {
   "cell_type": "markdown",
   "id": "02468a9c",
   "metadata": {},
   "source": [
    "## 3 - Specifying which commits to mine\n",
    "\n",
    "But now back to mining specifically commit *090c00c342283134a23900f85c1d232499617365*, which can be done with the `commits` option in `mine_git_repo()`."
   ]
  },
  {
   "cell_type": "code",
   "execution_count": null,
   "id": "1c8085f8",
   "metadata": {
    "ExecuteTime": {
     "end_time": "2022-02-18T12:03:39.885672Z",
     "start_time": "2022-02-18T12:03:39.195077Z"
    }
   },
   "outputs": [],
   "source": [
    "# mine_git_repo takes list of commits\n",
    "commits = ['090c00c342283134a23900f85c1d232499617365']\n",
    "\n",
    "git2net.mine_git_repo(git_repo_dir, sqlite_db_file, commits=commits)"
   ]
  },
  {
   "cell_type": "markdown",
   "id": "a304ef6e",
   "metadata": {},
   "source": [
    "## 4 - Excluding files and binary files\n",
    "\n",
    "### Excluding files\n",
    "With the `exclude` option, you can exclude a list of files while mining.\n",
    "You can use this option, e.g., when you have large files that are irrelevant to your analysis, e.g., because they are maintained in another repository.\n",
    "\n",
    "### Binary files\n",
    "Other than the files provided using `exclude`, `git2net` automatically excludes binary files while processing using the list of file extensions provided in [`sindresorhus/binary-extensions`](https://github.com/sindresorhus/binary-extensions).\n",
    "Binary files, such as image files, are usually very long files that are not humanly readable and, hence, need to be interpreted by a program (e.g., an image viewing application).\n",
    "These files are considerably different from the code files `git2net` is developed to analyse and should therefore be considered separately.\n",
    "\n",
    "### Files with binary sections - text entropy\n",
    "In addition to purely binary files, also files containing both code and binary sections exist.\n",
    "A prime example of this type of file is a Jupyter notebook, like the one you are currently working with.\n",
    "`git2net` does not automatically exclude these files.\n",
    "However, with the `text_entropy` we provide an option to distinguish binary lines&mdash;which generally have a higher entropy&mdash;from code lines allowing you to exclude them after the mining.\n",
    "The text entropy is recorded for all lines in the resulting database.\n",
    "For more details on the text entropy measure, we refer to our [original publication](https://arxiv.org/abs/1903.10180)."
   ]
  },
  {
   "cell_type": "markdown",
   "id": "01f8b16b",
   "metadata": {},
   "source": [
    "## 5 - A closer look at code changes\n",
    "\n",
    "### Text extraction\n",
    "To save storage space, `git2net` does not store the content of modified lines by default.\n",
    "However, you can enable this by providing the option `extract_text=True` to `mine_get_repo()`.\n",
    "Doing so will add the information of the line content before and after all edits to the database.\n",
    "\n",
    "### Code complexity\n",
    "Using the library [`terryyin/lizard`](https://github.com/terryyin/lizard) `git2net` can further compute the cyclomatic complexity and the number of lines of code (NLOC) while mining.\n",
    "As this is computationally expensive, this option is disabled by default.\n",
    "To enable it, set `extract_complexity=True`.\n",
    "\n",
    "### Code blocks\n",
    "When we modify code, we usually do not think about the code as consisting of individual lines but rather as functional blocks of code.\n",
    "Using the option `use_blocks=True`, `git2net` also provides the option to process changes on the level of such blocks rather than individual lines (see our [original publication](https://arxiv.org/abs/1903.10180) for more details).\n",
    "The main drawback of this approach is that the multiple lines changed within a block might have different authors.\n",
    "Currently, for block changes, `git2net` only records the data of the first block line, even if the code of multiple authors is modified.\n",
    "Therefore, the processing in blocks is disabled by default."
   ]
  },
  {
   "cell_type": "markdown",
   "id": "664780c0",
   "metadata": {},
   "source": [
    "## 6 - Parallelisation\n",
    "\n",
    "### Specifying the number of parallel operations\n",
    "\n",
    "`git2net` is highly parallelised and will automatically detect the number of threads of your CPU, fully utilising all of them during operation.\n",
    "However, there might be cases, e.g. when other operations are running simultaneously, in which you may want to reduce this load.\n",
    "You can do so by explicitly setting the number of processes with the `no_of_processes` option of the `mine_git_repo()` function.\n",
    "\n",
    "### Disabeling parallelisation\n",
    "\n",
    "While parallelisation is excellent for performance, it can make debugging challenging as error messages are collected inside the individual parallel workers.\n",
    "To mediate this, `git2net` features a serial mode that disables all parallelisation during the mining.\n",
    "You can enable the serial mode by setting `no_of_processes=1`.\n",
    "Let's try this out now.\n",
    "As you can see below, `git2net` will indicate that it is working in serial mode in the progress bar during mining."
   ]
  },
  {
   "cell_type": "code",
   "execution_count": null,
   "id": "6abc5f04",
   "metadata": {
    "ExecuteTime": {
     "end_time": "2022-02-18T12:05:23.608351Z",
     "start_time": "2022-02-18T12:03:39.888207Z"
    }
   },
   "outputs": [],
   "source": [
    "# Remove database if exists\n",
    "if os.path.exists(sqlite_db_file):\n",
    "    os.remove(sqlite_db_file)\n",
    "\n",
    "git2net.mine_git_repo(git_repo_dir, sqlite_db_file, no_of_processes=1)"
   ]
  },
  {
   "cell_type": "markdown",
   "id": "eba0d7c8",
   "metadata": {},
   "source": [
    "### Parallelisation options\n",
    "\n",
    "Parallelisation in `git2net` is based on the individual processing of independent commits.\n",
    "By default, each parallel worker is provided with a single commit to mine.\n",
    "Once mining the commit is complete, the results are reported back, and the worker is assigned a new commit.\n",
    "In some cases, it might be advantageous to provide the worker with multiple commits at once.\n",
    "You can do so by setting the option `chunksize` in `mine_git_repo()`.\n",
    "Providing multiple commits at once has the benefit of requiring fewer I/O operations.\n",
    "However, one should note that commits are only saved to the database&mdash;and hence skipped in a subsequent run&mdash;once the workers return them.\n",
    "This behaviour might be suboptimal if, e.g., you plan to pause your mining operations intermittently."
   ]
  },
  {
   "cell_type": "markdown",
   "id": "10ac04fa",
   "metadata": {},
   "source": [
    "## 7 - Merges\n",
    "\n",
    "A unique feature of `git2net` is its ability to mine merge commits.\n",
    "These commits are challenging to process as the content of two different versions of a repository needs to be compared.\n",
    "The changes leading to the two versions have already been mined with the commits generating the different versions.\n",
    "However, the merge commit's author can also make changes during the merge that need to be distinguished from them.\n",
    "Further, when performing a merge&mdash;particularly for conflicts&mdash;the merge's author needs to decide which of the conflicting versions to keep.\n",
    "These challenges can make the mining of merges computationally expensive.\n",
    "\n",
    "By default, `git2net` will extract merges.\n",
    "If your analysis does not require the information from merges, you can disable their mining by setting `extract_merges=False` in `mine_git_repo()`.\n",
    "\n",
    "Usually, merged versions differ only in a few lines and are otherwise identical.\n",
    "However, as mentioned above, only one version is kept during a merge, and git records the second version as deleted.\n",
    "This behaviour is problematic for two reasons:\n",
    "First, merge commits result in large amounts of lines that git considers as deleted even though the identical line from the second version continues to exist.\n",
    "In other words, lines that persist are recorded as deleted.\n",
    "Second, for these identical lines, it is (mostly) arbitrary which version persists and which is deleted.\n",
    "Overall, merge commits can therefore result in large amounts of lines that git considers as deleted but for which an (almost) identical clone that only differs in the last commit hash remains in the repository.\n",
    "Due to these challenges, deletions in merge commits are not recorded by default when mining a repository with `git2net`.\n",
    "However, you can change this behaviour and include merge deletions in your resulting database by setting `extract_merge_deletions=True` in `mine_git_repo`.\n"
   ]
  },
  {
   "cell_type": "markdown",
   "id": "e2bcf8e6",
   "metadata": {},
   "source": [
    "## 8 - Parameterising `git blame`\n",
    "\n",
    "For all modified files of a commit, `git2net` calls the git operation `git blame` to determine the previous authors of all lines.\n",
    "While this sounds simple, precisely specifying what we mean when we say *previous author* can be challenging.\n",
    "Generally, we want to know who is the author of the line that we are just changing.\n",
    "But who is this author?\n",
    "Does adding a whitespace character (e.g., a line break at the end of the line) make me the new author?\n",
    "Am I the author if I copied the line from another file during refactoring?\n",
    "\n",
    "The answer to these questions depends on the overarching question you aim to address.\n",
    "Therefore, we cannot give you a final answer here.\n",
    "However, we can give you the option to decide for yourself.\n",
    "`git blame` comes with various options that allow you to specify its exact behaviour.\n",
    "We have set the default options in `git2net` to conform to the default options of `git blame`.\n",
    "However, especially the options `-C` concerning copied and pasted lines from other files and `-w` concerning whitespaces might be critical for your analysis.\n",
    "Therefore, `git2net` provides the options `blame_C` and `blame_w` that allow you to specify them during mining.\n",
    "We refer to the [git blame documentation](https://git-scm.com/docs/git-blame) for details on both options."
   ]
  },
  {
   "cell_type": "markdown",
   "id": "06379268",
   "metadata": {},
   "source": [
    "## 9 - Branches of repositories\n",
    "\n",
    "Finally, `git2net` allows you to analyse different branches of repositories or, with the option `all_branches=True`, even mine all branches at once.\n",
    "However, to do so, you will need to have tracked these branches when cloning your repository before the analysis.\n",
    "For details on how you can do this, please refer to the first tutorial."
   ]
  },
  {
   "cell_type": "markdown",
   "id": "be2750ac",
   "metadata": {},
   "source": [
    "# The resulting database\n",
    "\n",
    "Mining a repository with `git2net` yields an SQLite database that contains three tables: `_metadata`, `commits`, and `edits`.\n",
    "The table `_metadata` contains information such as the path to the original repository, the time it was mined, and the settings for `git2net` that were used."
   ]
  },
  {
   "cell_type": "code",
   "execution_count": null,
   "id": "203a0bbd",
   "metadata": {
    "ExecuteTime": {
     "end_time": "2022-02-18T12:05:23.620356Z",
     "start_time": "2022-02-18T12:05:23.609845Z"
    }
   },
   "outputs": [],
   "source": [
    "with sqlite3.connect(sqlite_db_file) as con:\n",
    "    commit_data = pd.read_sql_query(\"SELECT * FROM _metadata\", con)\n",
    "\n",
    "commit_data.tail()"
   ]
  },
  {
   "cell_type": "markdown",
   "id": "c51bf762",
   "metadata": {},
   "source": [
    "The table `commits` stores all information related to the commits themselves, e.g., information regarding the author and time, the branch(es) in which it appears, and their parent-commit(s).\n",
    "All commits are uniquely identified by their hash."
   ]
  },
  {
   "cell_type": "code",
   "execution_count": null,
   "id": "3a994c07",
   "metadata": {
    "ExecuteTime": {
     "end_time": "2022-02-18T12:05:23.641078Z",
     "start_time": "2022-02-18T12:05:23.622229Z"
    }
   },
   "outputs": [],
   "source": [
    "with sqlite3.connect(sqlite_db_file) as con:\n",
    "    commit_data = pd.read_sql_query(\"SELECT * FROM commits\", con)\n",
    "\n",
    "commit_data.tail()"
   ]
  },
  {
   "cell_type": "markdown",
   "id": "bc714b01",
   "metadata": {},
   "source": [
    "Each commit may contain multiple files, each including numerous changes to lines.\n",
    "These changes are reflected in the `edits` table, which contains detailed information about all modifications of the files contained in the commits.\n",
    "Here `git2net` distinguishes between different file-level modifications (`modification_type`) and the corresponding line-level edits within files (`edit_type`).\n",
    "\n",
    "A file included in a commit may be an added (`ADD`), deleted (`DELETE`), or modified (`MODIFY`) file.\n",
    "In addition, changes to individual lines are saved for each file.\n",
    "These can be newly added (`addition`), changed (`replacement`) or deleted (`deletion`) lines."
   ]
  },
  {
   "cell_type": "code",
   "execution_count": null,
   "id": "68f08f63",
   "metadata": {
    "ExecuteTime": {
     "end_time": "2022-02-18T12:05:23.995550Z",
     "start_time": "2022-02-18T12:05:23.643134Z"
    }
   },
   "outputs": [],
   "source": [
    "with sqlite3.connect(sqlite_db_file) as con:\n",
    "    commit_data = pd.read_sql_query(\"SELECT * FROM edits\", con)\n",
    "\n",
    "commit_data.tail()"
   ]
  },
  {
   "cell_type": "markdown",
   "id": "3fe91ef0",
   "metadata": {},
   "source": [
    "With this, we conclude the second part of the tutorial for `git2net`.\n",
    "In this part, we have explained all options of `git2net`'s primary mining function `mine_git_repo()`, which should enable you to go ahead and make appropriate choices for your application of `git2net`.\n",
    "Subsequently, you can call `git2net.mine_git_repo()` with your selected options and obtain an SQLite database that we will use as the basis of the next part of this tutorial."
   ]
  }
 ],
 "metadata": {
  "kernelspec": {
   "display_name": "Python 3 (ipykernel)",
   "language": "python",
   "name": "python3"
  },
  "language_info": {
   "codemirror_mode": {
    "name": "ipython",
    "version": 3
   },
   "file_extension": ".py",
   "mimetype": "text/x-python",
   "name": "python",
   "nbconvert_exporter": "python",
   "pygments_lexer": "ipython3",
   "version": "3.7.12"
  }
 },
 "nbformat": 4,
 "nbformat_minor": 5
}
